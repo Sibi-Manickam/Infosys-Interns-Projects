{
  "nbformat": 4,
  "nbformat_minor": 0,
  "metadata": {
    "colab": {
      "provenance": []
    },
    "kernelspec": {
      "name": "python3",
      "display_name": "Python 3"
    },
    "language_info": {
      "name": "python"
    }
  },
  "cells": [
    {
      "cell_type": "code",
      "execution_count": null,
      "metadata": {
        "id": "s_NLQfIJ0uj-"
      },
      "outputs": [],
      "source": [
        "from flask import Flask, request, jsonify, render_template\n",
        "import os\n",
        "import tensorflow as tf\n",
        "from tensorflow.keras.models import load_model\n",
        "from tensorflow.keras.preprocessing.image import img_to_array\n",
        "from PIL import Image\n",
        "import numpy as np\n",
        "\n",
        "app = Flask(__name__)\n",
        "\n",
        "UPLOAD_FOLDER = 'uploads'\n",
        "os.makedirs(UPLOAD_FOLDER, exist_ok=True)\n",
        "app.config['UPLOAD_FOLDER'] = UPLOAD_FOLDER\n",
        "\n",
        "# Load your pre-trained model\n",
        "MODEL_PATH = 'plant_disease_classifier.keras'  # Update this path to your model\n",
        "model = load_model(MODEL_PATH)\n",
        "\n",
        "def prepare_image(image, target_size):\n",
        "    if image.mode != \"RGB\":\n",
        "        image = image.convert(\"RGB\")\n",
        "    image = image.resize(target_size)\n",
        "    image = img_to_array(image)\n",
        "    image = np.expand_dims(image, axis=0)\n",
        "    image = image / 255.0  # Assuming the model expects inputs in the range [0, 1]\n",
        "    return image\n",
        "\n",
        "@app.route('/')\n",
        "def index():\n",
        "    return render_template('index.html')\n",
        "\n",
        "@app.route('/predict', methods=['POST'])\n",
        "def predict():\n",
        "    if 'image' not in request.files:\n",
        "        return jsonify({'error': 'No image part in the request'}), 400\n",
        "\n",
        "    file = request.files['image']\n",
        "\n",
        "    if file.filename == '':\n",
        "        return jsonify({'error': 'No selected file'}), 400\n",
        "\n",
        "    if file:\n",
        "        filename = os.path.join(app.config['UPLOAD_FOLDER'], file.filename)\n",
        "        file.save(filename)\n",
        "\n",
        "        # Open the image file\n",
        "        image = Image.open(filename)\n",
        "        prepared_image = prepare_image(image, target_size=(256, 256))  # Update target_size to your model's expected input size\n",
        "\n",
        "        # Make a prediction\n",
        "        predictions = model.predict(prepared_image)\n",
        "        predicted_class = np.argmax(predictions, axis=1)[0]\n",
        "\n",
        "        # Assuming you have a dictionary to map class indices to labels\n",
        "        class_labels = {0: 'Healthy', 1: 'Diseased'}  # Update with your actual labels\n",
        "        result = class_labels.get(predicted_class, \"Unknown\")\n",
        "\n",
        "        return jsonify({'result': result})\n",
        "\n",
        "if __name__ == '__main__':\n",
        "    app.run(debug=True)"
      ]
    }
  ]
}