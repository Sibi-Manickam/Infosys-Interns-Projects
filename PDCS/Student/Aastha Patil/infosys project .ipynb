{
 "cells": [
  {
   "cell_type": "code",
   "execution_count": 1,
   "id": "43e03b93",
   "metadata": {},
   "outputs": [],
   "source": [
    "# Step 1: Extract the Zip File\n",
    "import os\n",
    "import zipfile"
   ]
  },
  {
   "cell_type": "code",
   "execution_count": 2,
   "id": "35618508",
   "metadata": {},
   "outputs": [],
   "source": [
    "# Define the path to the zip file (update the path as necessary)\n",
    "zip_file_path = os.path.join(os.path.expanduser('~'), 'Downloads', 'archive (7).zip')"
   ]
  },
  {
   "cell_type": "code",
   "execution_count": 3,
   "id": "fb4c726a",
   "metadata": {},
   "outputs": [],
   "source": [
    "# Define a directory to extract the contents\n",
    "extracted_dir_path = 'extracted_contents'"
   ]
  },
  {
   "cell_type": "code",
   "execution_count": 4,
   "id": "d03bc897",
   "metadata": {},
   "outputs": [],
   "source": [
    "# Create the directory if it doesn't exist\n",
    "os.makedirs(extracted_dir_path, exist_ok=True)"
   ]
  },
  {
   "cell_type": "code",
   "execution_count": 5,
   "id": "5a487586",
   "metadata": {},
   "outputs": [],
   "source": [
    "# Unzip the archive\n",
    "with zipfile.ZipFile(zip_file_path, 'r') as zip_ref:\n",
    "    zip_ref.extractall(extracted_dir_path)"
   ]
  },
  {
   "cell_type": "code",
   "execution_count": 6,
   "id": "2a2f2e76",
   "metadata": {},
   "outputs": [],
   "source": [
    "# Step 2: Load Images and Labels\n",
    "import pandas as pd\n",
    "import numpy as np\n",
    "from tensorflow.keras.preprocessing.image import load_img, img_to_array\n",
    "from sklearn.model_selection import train_test_split\n",
    "from tensorflow.keras.utils import to_categorical"
   ]
  },
  {
   "cell_type": "code",
   "execution_count": 7,
   "id": "dff7db35",
   "metadata": {},
   "outputs": [],
   "source": [
    "def load_images_and_labels(csv_path, image_dir):\n",
    "    df = pd.read_csv(csv_path)\n",
    "    images = []\n",
    "    labels = []\n",
    "    for _, row in df.iterrows():\n",
    "        img_path = os.path.join(image_dir, row['Image'])\n",
    "        img = load_img(img_path, target_size=(128, 128))  # Resize images to 128x128\n",
    "        img_array = img_to_array(img)\n",
    "        images.append(img_array)\n",
    "        labels.append(row['Label'])\n",
    "    return np.array(images), np.array(labels)"
   ]
  },
  {
   "cell_type": "code",
   "execution_count": 8,
   "id": "967cb141",
   "metadata": {},
   "outputs": [],
   "source": [
    "# Construct paths to the CSV files and directories\n",
    "train_csv_path = os.path.join(extracted_dir_path, 'train.csv')\n",
    "test_csv_path = os.path.join(extracted_dir_path, 'test.csv')\n",
    "train_dir = os.path.join(extracted_dir_path, 'train')\n",
    "test_dir = os.path.join(extracted_dir_path, 'test')"
   ]
  },
  {
   "cell_type": "code",
   "execution_count": 9,
   "id": "95bc8dea",
   "metadata": {},
   "outputs": [],
   "source": [
    "# Construct paths to the CSV files and directories\n",
    "train_csv_path = os.path.join(extracted_dir_path, 'train.csv')\n",
    "test_csv_path = os.path.join(extracted_dir_path, 'test.csv')\n",
    "train_dir = os.path.join(extracted_dir_path, 'train')\n",
    "test_dir = os.path.join(extracted_dir_path, 'test')"
   ]
  },
  {
   "cell_type": "code",
   "execution_count": 10,
   "id": "98f9c3ff",
   "metadata": {},
   "outputs": [
    {
     "ename": "NameError",
     "evalue": "name 'X' is not defined",
     "output_type": "error",
     "traceback": [
      "\u001b[1;31m---------------------------------------------------------------------------\u001b[0m",
      "\u001b[1;31mNameError\u001b[0m                                 Traceback (most recent call last)",
      "Input \u001b[1;32mIn [10]\u001b[0m, in \u001b[0;36m<cell line: 2>\u001b[1;34m()\u001b[0m\n\u001b[0;32m      1\u001b[0m \u001b[38;5;66;03m# Step 3: Split Data into Training and Validation Sets\u001b[39;00m\n\u001b[1;32m----> 2\u001b[0m X_train, X_val, y_train, y_val \u001b[38;5;241m=\u001b[39m train_test_split(\u001b[43mX\u001b[49m, y, test_size\u001b[38;5;241m=\u001b[39m\u001b[38;5;241m0.2\u001b[39m, random_state\u001b[38;5;241m=\u001b[39m\u001b[38;5;241m42\u001b[39m)\n",
      "\u001b[1;31mNameError\u001b[0m: name 'X' is not defined"
     ]
    }
   ],
   "source": [
    "# Step 3: Split Data into Training and Validation Sets\n",
    "X_train, X_val, y_train, y_val = train_test_split(X, y, test_size=0.2, random_state=42)"
   ]
  },
  {
   "cell_type": "code",
   "execution_count": null,
   "id": "fed76cb2",
   "metadata": {},
   "outputs": [],
   "source": [
    "# Step 4: Normalize and Prepare Data\n",
    "X_train = X_train / 255.0\n",
    "X_val = X_val / 255.0\n",
    "y_train = to_categorical(y_train)\n",
    "y_val = to_categorical(y_val)"
   ]
  },
  {
   "cell_type": "code",
   "execution_count": null,
   "id": "3754c8d5",
   "metadata": {},
   "outputs": [],
   "source": [
    "# Step 5: Preprocess the Dataset\n",
    "import matplotlib.pyplot as plt"
   ]
  },
  {
   "cell_type": "code",
   "execution_count": null,
   "id": "f6c376e4",
   "metadata": {},
   "outputs": [],
   "source": [
    "def display_sample_images(images, labels, class_names):\n",
    "    plt.figure(figsize=(10, 10))\n",
    "    for i in range(25):\n",
    "        plt.subplot(5, 5, i + 1)\n",
    "        plt.xticks([])\n",
    "        plt.yticks([])\n",
    "        plt.grid(False)\n",
    "        plt.imshow(images[i].astype('uint8'))\n",
    "        plt.xlabel(class_names[labels[i]])\n",
    "    plt.show()"
   ]
  },
  {
   "cell_type": "code",
   "execution_count": null,
   "id": "4d7f8d14",
   "metadata": {},
   "outputs": [],
   "source": [
    "# Display a sample of images and labels\n",
    "class_names = [str(i) for i in range(len(np.unique(y)))]\n",
    "display_sample_images(X_train, y_train.argmax(axis=1), class_names)"
   ]
  },
  {
   "cell_type": "code",
   "execution_count": null,
   "id": "ea1e5d58",
   "metadata": {},
   "outputs": [],
   "source": [
    "# Check the distribution of labels in the training set\n",
    "label_counts = pd.Series(y_train.argmax(axis=1)).value_counts()\n",
    "print(\"Label distribution in the training set:\\n\", label_counts)"
   ]
  },
  {
   "cell_type": "code",
   "execution_count": null,
   "id": "d626d89d",
   "metadata": {},
   "outputs": [],
   "source": [
    "# Perform data augmentation (if necessary)\n",
    "from tensorflow.keras.preprocessing.image import ImageDataGenerator\n",
    "\n",
    "datagen = ImageDataGenerator(\n",
    "    rotation_range=20,\n",
    "    width_shift_range=0.2,\n",
    "    height_shift_range=0.2,\n",
    "    shear_range=0.2,\n",
    "    zoom_range=0.2,\n",
    "    horizontal_flip=True,\n",
    "    fill_mode='nearest'\n",
    ")"
   ]
  },
  {
   "cell_type": "code",
   "execution_count": null,
   "id": "b53781b4",
   "metadata": {},
   "outputs": [],
   "source": [
    "# Fit the data generator to the training data\n",
    "datagen.fit(X_train)\n",
    "\n",
    "# Example of displaying augmented images\n",
    "for X_batch, y_batch in datagen.flow(X_train, y_train, batch_size=9):\n",
    "    plt.figure(figsize=(10, 10))\n",
    "    for i in range(9):\n",
    "        plt.subplot(3, 3, i + 1)\n",
    "        plt.xticks([])\n",
    "        plt.yticks([])\n",
    "        plt.grid(False)\n",
    "        plt.imshow(X_batch[i].astype('uint8'))\n",
    "        plt.xlabel(class_names[y_batch[i].argmax()])\n",
    "    plt.show()\n",
    "    break  # Display only one batch of augmented images\n",
    "\n",
    "print(\"Data preprocessing complete.\")"
   ]
  },
  {
   "cell_type": "code",
   "execution_count": null,
   "id": "d280e61a",
   "metadata": {},
   "outputs": [],
   "source": [
    "# Step 6: Build and Train the Model\n",
    "from tensorflow.keras.models import Sequential\n",
    "from tensorflow.keras.layers import Conv2D, MaxPooling2D, Flatten, Dense"
   ]
  },
  {
   "cell_type": "code",
   "execution_count": null,
   "id": "3e3d6f1a",
   "metadata": {},
   "outputs": [],
   "source": [
    "# Build a simple CNN model\n",
    "model = Sequential([\n",
    "    Conv2D(32, (3, 3), activation='relu', input_shape=(128, 128, 3)),\n",
    "    MaxPooling2D((2, 2)),\n",
    "    Conv2D(64, (3, 3), activation='relu'),\n",
    "    MaxPooling2D((2, 2)),\n",
    "    Flatten(),\n",
    "    Dense(128, activation='relu'),\n",
    "    Dense(len(np.unique(y)), activation='softmax')  # Number of classes\n",
    "])"
   ]
  },
  {
   "cell_type": "code",
   "execution_count": null,
   "id": "a29b0bfa",
   "metadata": {},
   "outputs": [],
   "source": [
    "# Compile the model\n",
    "model.compile(optimizer='adam', loss='categorical_crossentropy', metrics=['accuracy'])\n"
   ]
  },
  {
   "cell_type": "code",
   "execution_count": null,
   "id": "8abc868f",
   "metadata": {},
   "outputs": [],
   "source": [
    "# Train the model\n",
    "model.fit(X_train, y_train, epochs=3, validation_data=(X_val, y_val))\n"
   ]
  },
  {
   "cell_type": "code",
   "execution_count": null,
   "id": "10e80a94",
   "metadata": {},
   "outputs": [],
   "source": [
    "# Step 7: Prepare Test Data and Make Predictions\n",
    "X_test, _ = load_images_and_labels(test_csv_path, test_dir)\n",
    "X_test = X_test / 255.0\n",
    "predictions = model.predict(X_test)\n",
    "predicted_labels = np.argmax(predictions, axis=1)"
   ]
  },
  {
   "cell_type": "code",
   "execution_count": null,
   "id": "f327f6ef",
   "metadata": {},
   "outputs": [],
   "source": [
    "# Save predictions to submission.csv\n",
    "submission_df = pd.read_csv(os.path.join(extracted_dir_path, 'submission.csv'))\n",
    "submission_df['Label'] = predicted_labels\n",
    "submission_df.to_csv('submission.csv', index=False)\n",
    "print(\"Model training complete and predictions saved to submission.csv.\")"
   ]
  },
  {
   "cell_type": "code",
   "execution_count": null,
   "id": "3b26ae01",
   "metadata": {},
   "outputs": [],
   "source": []
  }
 ],
 "metadata": {
  "kernelspec": {
   "display_name": "Python 3 (ipykernel)",
   "language": "python",
   "name": "python3"
  },
  "language_info": {
   "codemirror_mode": {
    "name": "ipython",
    "version": 3
   },
   "file_extension": ".py",
   "mimetype": "text/x-python",
   "name": "python",
   "nbconvert_exporter": "python",
   "pygments_lexer": "ipython3",
   "version": "3.9.12"
  }
 },
 "nbformat": 4,
 "nbformat_minor": 5
}
